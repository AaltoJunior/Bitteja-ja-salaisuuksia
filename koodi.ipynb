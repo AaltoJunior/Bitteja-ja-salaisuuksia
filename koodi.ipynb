{
 "cells": [
  {
   "cell_type": "markdown",
   "metadata": {},
   "source": [
    "# Salaisuuksia ja bittejä\n",
    "\n",
    "## Tervetuloa!\n",
    "Päivän aiheena on tekstin salaus ja sen purkaminen, sekä murtaminen. Käytämme RSA-salausta tämän python koodin kautta.\n",
    "\n",
    "1. Aluksi käydää teoria yhdessä.\n",
    "2. Lähdetään generoimaan omat alkuluvut.\n",
    "3. Generoidaan omat avainparit alkulukujen avulla\n",
    "4. Salataan oma viesti\n",
    "5. Puretaan vastaanotettu viesti\n",
    "6. Murretaan viestejä\n",
    "\n"
   ]
  },
  {
   "cell_type": "markdown",
   "metadata": {},
   "source": [
    "Alla on koko salauksen funktionaalisuus toteutettuna valmiiksi. Voit tutustua koodiin, mutta sitä ei tarvitse muokata."
   ]
  },
  {
   "cell_type": "code",
   "execution_count": 10,
   "metadata": {},
   "outputs": [],
   "source": [
    "# Python-koodissa funktiot kirjoitetaan aina ajettavan koodin yläpuolelle.\n",
    "# Alla kaikki salaukseen tarvittavat funktiot.\n",
    "# Näitä funktioita ei kannata lähteä muokkaamaan ellei ole edistynyt koodari.\n",
    "# Funktioiden alta löytyy ajettava koodi, johon salattava/purettava viesti syötetään.\n",
    "def alkulukutesti(n: int) -> bool:\n",
    "    # Funktio testaa 6k+-1 - alkulukutestillä onko luku alkuluku\n",
    "    if n % 2 == 0 or n % 3 == 0:\n",
    "        return False\n",
    "    i = 5\n",
    "    juuri = int(n ** 0.5)\n",
    "    while i <= juuri:\n",
    "        if n % i == 0 or n % (i + 2) == 0:\n",
    "            return False\n",
    "        i += 6\n",
    "    return True\n",
    "\n",
    "def alkulukuparin_luonti(r, s) -> (int, int):\n",
    "    # Funktio luo salausavaimien luontiin vaadittavat alkuluvut.\n",
    "    # Huom! Oikeissa sovelluskohteissa alkuluvut generoidaan käyttäen satunnaislukugeneraattoria.\n",
    "    # Avainten koot ovat myös paljon isompia nykyään, yleensä 1024, 2048 tai jopa 4096 bittiä.\n",
    "    # Käytettävät alkuluvut ovat siis suuruusluokkaa 10^150.\n",
    "\n",
    "    # Valitaan käyttäjän antamien lukujen läheisyydestä alkuluvut.\n",
    "    # On syytä huomata, että menetelmä ei tuota täysin satunnaisia alkulukuja.\n",
    "    while alkulukutesti(r) == False:\n",
    "        r += 1\n",
    "    while alkulukutesti(s) == False:\n",
    "        s += -1\n",
    "    return r, s\n",
    "\n",
    "def syt(a: int, b: int) -> int:\n",
    "    # Funktio laskee lukujen suurin yhteinen tekijä Eukleideen algoritmilla.\n",
    "    if b == 0:\n",
    "        return a\n",
    "    else:\n",
    "        return syt(b, a % b)\n",
    "\n",
    "def pyj(a: int, b: int) -> int:\n",
    "    # Funktio määrittää lukujen pienimmän yhteisen jaettavan\n",
    "    # ab = syt(a,b) * pyj(a,b) <-> pyj(a,b) = ab / syt(a,b)\n",
    "    return int(a * b / syt(a, b))\n",
    "\n",
    "\n",
    "# Seuraavien funktioiden avulla määritetään julkinen ja salainen avainpari\n",
    "def julkinen_e(m: int) -> int:\n",
    "    for x in range(2, m):\n",
    "        if syt(m, x) == 1:\n",
    "            return x\n",
    "def salainen_d(m, e) -> int:\n",
    "    for x in range(2, m):\n",
    "        if (e * x) % m == 1:\n",
    "            return x\n",
    "\n",
    "def avainparien_luonti(alkuluku1: int, alkuluku2: int) -> (int, int, int, int):\n",
    "    n = alkuluku1 * alkuluku2\n",
    "    m = pyj(alkuluku1 - 1, alkuluku2 - 1)\n",
    "    e = julkinen_e(m)\n",
    "    d = salainen_d(m, e)\n",
    "    print(f\"Julkinen avainparisi: ({n}, {e})\")\n",
    "    print(f\"Salainen avainparisi: ({n}, {d})\")\n",
    "    return n, m, e, d\n",
    "\n",
    "# Alla on vielä viestin salaus- ja purkufunktiot.\n",
    "def viestin_salaus(viesti: str, n: int, e: int) -> str:\n",
    "    merkkilista = []\n",
    "    for str in viesti.split():\n",
    "        num = int(str, 2)\n",
    "        merkkilista.append(num)\n",
    "    i = 0\n",
    "    merkkilistastr = []\n",
    "    for merkki in merkkilista:\n",
    "        # Pow-komento on verrattain nopea tapa laskea suuria potensseja modulossa.\n",
    "        salattu_merkki = pow(merkki, e, n)\n",
    "        salattu_merkki_str = f\"{salattu_merkki}\"\n",
    "        merkkilistastr.append(salattu_merkki_str)\n",
    "        i += 1\n",
    "    salattu_viesti = \" \".join(merkkilistastr)\n",
    "    return salattu_viesti\n",
    "\n",
    "def viestin_purku(salattu_viesti: str, n: int, d: int) -> str:\n",
    "    merkkilista = []\n",
    "    for str in salattu_viesti.split():\n",
    "        num = int(str)\n",
    "        merkkilista.append(num)\n",
    "    i = 0\n",
    "    for merkki in merkkilista:\n",
    "        purettu_merkki = pow(merkki, d, n)\n",
    "        purettu_bin = ('{0:b}'.format(purettu_merkki).zfill(8))\n",
    "        merkkilista[i] = f\"{(purettu_bin)}\"\n",
    "        i += 1\n",
    "    purettu_viesti= ' '.join(merkkilista)\n",
    "    return purettu_viesti"
   ]
  },
  {
   "cell_type": "markdown",
   "metadata": {},
   "source": [
    "**Aluksi generoidaan avainparit**\n",
    "\n",
    "Syötä alla olevan koodin muuttujiin kaksi lulkua väliltä 1000-10000\n",
    "\n",
    "Koodi antaa sinulle julkisen ja salaisen avainparin. Pidä nämä tallessa."
   ]
  },
  {
   "cell_type": "code",
   "execution_count": null,
   "metadata": {},
   "outputs": [],
   "source": [
    "luku1 = 1234\n",
    "luku2 = 2345\n",
    "\n",
    "alkuluku1, alkuluku2 = alkulukuparin_luonti(luku1, luku2)\n",
    "n, m, e, d = avainparien_luonti(alkuluku1, alkuluku2)"
   ]
  },
  {
   "cell_type": "markdown",
   "metadata": {},
   "source": [
    "**Seuraavaksi voimme lähettää salatun viestin.**\n",
    "\n",
    "Syötä muuttujaan salattava viesti binäärimuodossa. Binäärimuotoon muuttamiseen voidaan käyttää online muunninta esim. (https://onlineutf8tools.com/convert-utf8-to-binary).\n",
    "\n",
    "Määritä avainpari muuttujaan viestin vastaanottajan julkinen avainpari.\n",
    "\n",
    "Koodi tulostaa salatun viestin."
   ]
  },
  {
   "cell_type": "code",
   "execution_count": null,
   "metadata": {},
   "outputs": [],
   "source": [
    "salattava_viesti = \"01001101 01101111 11101001 00100001\"\n",
    "\n",
    "avainpari = (2895817, 7)\n",
    "\n",
    "salattu_viesti = viestin_salaus(salattava_viesti, avainpari[0], avainpari[1])\n",
    "print(\"Salattu viesti:\", salattu_viesti)"
   ]
  },
  {
   "cell_type": "markdown",
   "metadata": {},
   "source": [
    "**Seuraavaksi voimme purkaa vastaanottamamme viestin.**\n",
    "\n",
    "Kopio vastaanottamasi salattu viesti muuttujaan. Koodi muistaa oman salaisen avainparisi ja purkaa niiden avulla salatun viestin."
   ]
  },
  {
   "cell_type": "code",
   "execution_count": null,
   "metadata": {},
   "outputs": [],
   "source": [
    "purettava_viesti = \"1014814 1373040 2317731 704188\"\n",
    "\n",
    "purettu_viesti = viestin_purku(purettava_viesti, n, d)\n",
    "print(\"Purettu viesti:\", purettu_viesti)"
   ]
  },
  {
   "cell_type": "markdown",
   "metadata": {},
   "source": [
    "**Viestin hakkerointi** \n",
    "\n",
    "Ratkaise ensin hakkeroitavan henkilön alkuluvut omalla Python-koodillasi.\n",
    "\n",
    "Voit kirjoittaa koodisi alla olevaan tyähjään koodilohkoon.\n",
    "\n",
    "Luo muuttuja johon sijoitat hakkeroitavan hekilön julkisen avainparin luvun n\n",
    "\n",
    "Käy kokonaislukuja x yksitellen läpi while: tai for: -rakenteella\n",
    "\n",
    "Testaa jakaako luku x luvun n\n",
    "\n",
    "Jos `x|n ja 1 < x < n`, `x` on toinen luvuista `p` ja `q`. Printtaa `x`!\n",
    "\n",
    "Kun olet löytänyt luvut p ja q, käytä tätä koodia viestin hakkeroimiseen.\n",
    "\n",
    "Syötä hakkeroitava viesti, p ja q."
   ]
  },
  {
   "cell_type": "code",
   "execution_count": null,
   "metadata": {},
   "outputs": [],
   "source": [
    "hakkeroitava_viesti = ...\n",
    "p = ...\n",
    "q = ...\n",
    "nh, mh, eh, dh = avainparien_luonti(p, q)\n",
    "hakkeroitu_viesti = viestin_purku(hakkeroitava_viesti, nh, dh)\n",
    "print(\"Hakkeroitu viesti:\", hakkeroitu_viesti)"
   ]
  }
 ],
 "metadata": {
  "interpreter": {
   "hash": "31f2aee4e71d21fbe5cf8b01ff0e069b9275f58929596ceb00d14d90e3e16cd6"
  },
  "kernelspec": {
   "display_name": "Python 3.8.2 64-bit",
   "language": "python",
   "name": "python3"
  },
  "language_info": {
   "codemirror_mode": {
    "name": "ipython",
    "version": 3
   },
   "file_extension": ".py",
   "mimetype": "text/x-python",
   "name": "python",
   "nbconvert_exporter": "python",
   "pygments_lexer": "ipython3",
   "version": "3.8.2"
  },
  "orig_nbformat": 4
 },
 "nbformat": 4,
 "nbformat_minor": 2
}
