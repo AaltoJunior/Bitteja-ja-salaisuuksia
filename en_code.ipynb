{
 "cells": [
  {
   "attachments": {},
   "cell_type": "markdown",
   "metadata": {},
   "source": [
    "# Itroduction to encryption\n",
    "\n",
    "## Welcome!\n",
    "Todays topic is text based encryption and decryption. We utilize our python code to implement an basic RSA encryption. \n",
    "\n",
    "1. Theory together\n",
    "2. Generete our prime numbers and key pair\n",
    "3. Encrypt messages\n",
    "4. Decrypt received messages\n",
    "5. Crack the encryption\n",
    "\n"
   ]
  },
  {
   "attachments": {},
   "cell_type": "markdown",
   "metadata": {},
   "source": [
    "Down bellow is the code for the encryption algorythm. You can have a look but no need to modify."
   ]
  },
  {
   "cell_type": "code",
   "execution_count": null,
   "metadata": {},
   "outputs": [],
   "source": [
    "# In Python code, functions are always written above the executable code.\n",
    "# Below are all the functions needed for encryption.\n",
    "# You shouldn't modify these functions unless you are an advanced coder.\n",
    "# Below the functions, you can find executable code into which the message to be encrypted/decrypted is entered.\n",
    "def alkulukutesti(n: int) -> bool:\n",
    "    # The function tests whether the number is a prime number with the 6k+-1 - prime number test\n",
    "    if n % 2 == 0 or n % 3 == 0:\n",
    "        return False\n",
    "    i = 5\n",
    "    juuri = int(n ** 0.5)\n",
    "    while i <= juuri:\n",
    "        if n % i == 0 or n % (i + 2) == 0:\n",
    "            return False\n",
    "        i += 6\n",
    "    return True\n",
    "\n",
    "def alkulukuparin_luonti(r, s) -> (int, int):\n",
    "     # The function generates the prime numbers required to generate encryption keys.\n",
    "     # Note! In real applications, prime numbers are generated using a random number generator.\n",
    "     # Key sizes are also much larger these days, usually 1024, 2048 or even 4096 bits.\n",
    "     # The prime numbers used are therefore of the order of 10^150.\n",
    "\n",
    "     # Prime numbers are selected from the proximity of the numbers given by the user.\n",
    "     # It is worth noting that the method does not produce completely random prime numbers.\n",
    "    while alkulukutesti(r) == False:\n",
    "        r += 1\n",
    "    while alkulukutesti(s) == False:\n",
    "        s += -1\n",
    "    return r, s\n",
    "\n",
    "def syt(a: int, b: int) -> int:\n",
    "    # The function calculates the greatest common factor of the numbers using the Euclidean algorithm.\n",
    "    if b == 0:\n",
    "        return a\n",
    "    else:\n",
    "        return syt(b, a % b)\n",
    "\n",
    "def pyj(a: int, b: int) -> int:\n",
    "    # The function determines the lowest common divisor of the numbers\n",
    "    # ab = syt(a,b) * pyj(a,b) <-> pyj(a,b) = ab / syt(a,b)\n",
    "    return int(a * b / syt(a, b))\n",
    "\n",
    "\n",
    "# The following functions are used to define a public and secret keys\n",
    "def julkinen_e(m: int) -> int:\n",
    "    for x in range(2, m):\n",
    "        if syt(m, x) == 1:\n",
    "            return x\n",
    "def salainen_d(m, e) -> int:\n",
    "    for x in range(2, m):\n",
    "        if (e * x) % m == 1:\n",
    "            return x\n",
    "\n",
    "def avainparien_luonti(alkuluku1: int, alkuluku2: int) -> (int, int, int, int):\n",
    "    n = alkuluku1 * alkuluku2\n",
    "    m = pyj(alkuluku1 - 1, alkuluku2 - 1)\n",
    "    e = julkinen_e(m)\n",
    "    d = salainen_d(m, e)\n",
    "    print(f\"Julkinen avainparisi: ({n}, {e})\")\n",
    "    print(f\"Salainen avainparisi: ({n}, {d})\")\n",
    "    return n, m, e, d\n",
    "\n",
    "# Below are the message encryption and decryption functions.\n",
    "def viestin_salaus(viesti: str, n: int, e: int) -> str:\n",
    "    merkkilista = []\n",
    "    for str in viesti.split():\n",
    "        num = int(str, 2)\n",
    "        merkkilista.append(num)\n",
    "    i = 0\n",
    "    merkkilistastr = []\n",
    "    for merkki in merkkilista:\n",
    "        # The pow command is a relatively fast way to calculate large powers in modulo.\n",
    "        salattu_merkki = pow(merkki, e, n)\n",
    "        salattu_merkki_str = f\"{salattu_merkki}\"\n",
    "        merkkilistastr.append(salattu_merkki_str)\n",
    "        i += 1\n",
    "    salattu_viesti = \" \".join(merkkilistastr)\n",
    "    return salattu_viesti\n",
    "\n",
    "def viestin_purku(salattu_viesti: str, n: int, d: int) -> str:\n",
    "    merkkilista = []\n",
    "    for str in salattu_viesti.split():\n",
    "        num = int(str)\n",
    "        merkkilista.append(num)\n",
    "    i = 0\n",
    "    for merkki in merkkilista:\n",
    "        purettu_merkki = pow(merkki, d, n)\n",
    "        purettu_bin = ('{0:b}'.format(purettu_merkki).zfill(8))\n",
    "        merkkilista[i] = f\"{(purettu_bin)}\"\n",
    "        i += 1\n",
    "    purettu_viesti= ' '.join(merkkilista)\n",
    "    return purettu_viesti"
   ]
  },
  {
   "attachments": {},
   "cell_type": "markdown",
   "metadata": {},
   "source": [
    "**Generate the key pair**\n",
    "\n",
    "Set the variables to two numbers between 1000-10000\n",
    "\n",
    "The code will generate public and private keypair for you. Write them down and don't share the private keypair to others!"
   ]
  },
  {
   "cell_type": "code",
   "execution_count": null,
   "metadata": {},
   "outputs": [],
   "source": [
    "luku1 = 1234\n",
    "luku2 = 2345\n",
    "\n",
    "alkuluku1, alkuluku2 = alkulukuparin_luonti(luku1, luku2)\n",
    "n, m, e, d = avainparien_luonti(alkuluku1, alkuluku2)\n",
    "\n",
    "print(f\"Prime 1: {alkuluku1}    Prime 2: {alkuluku2}\")"
   ]
  },
  {
   "attachments": {},
   "cell_type": "markdown",
   "metadata": {},
   "source": [
    "**Next up we can send the encrypted message**\n",
    "\n",
    "Set the variable to the message wanted to encrypt in binary format. To convert to binary format you can use an online tool like https://onlineutf8tools.com/convert-utf8-to-binary \n",
    "\n",
    "Code asks for the recipients public key pair.\n",
    "\n",
    "Code will print out the encrypted message. Now its ready to be sent to te recipient."
   ]
  },
  {
   "cell_type": "code",
   "execution_count": null,
   "metadata": {},
   "outputs": [],
   "source": [
    "salattava_viesti = \"01001101 01101111 11101001 00100001\"\n",
    "\n",
    "avainpari = (int(input(\"First number of recipients key pair : \\n\")), int(input(\"Second number: \\n\")))\n",
    "\n",
    "\n",
    "salattu_viesti = viestin_salaus(salattava_viesti, avainpari[0], avainpari[1])\n",
    "print(\"Encrypted message: \", salattu_viesti)"
   ]
  },
  {
   "attachments": {},
   "cell_type": "markdown",
   "metadata": {},
   "source": [
    "**Next we can decrypt the received message**\n",
    "\n",
    "Copy the encrypted message that you received and paste it to the variable. The code remembers your own key pair and utilizes that to decrypt the message. After the decryption the message can be converted back to text based utf8 form with an online tool like https://onlineutf8tools.com/convert-binary-to-utf8"
   ]
  },
  {
   "cell_type": "code",
   "execution_count": null,
   "metadata": {},
   "outputs": [],
   "source": [
    "purettava_viesti = \"1014814 1373040 2317731 704188\"\n",
    "\n",
    "purettu_viesti = viestin_purku(purettava_viesti, n, d)\n",
    "print(\"Decrypted message: \", purettu_viesti)"
   ]
  },
  {
   "attachments": {},
   "cell_type": "markdown",
   "metadata": {},
   "source": [
    "**Cracking the message** \n",
    "\n",
    "Solve the prime numbes for the person whos message you are going to chack. For this you need to to a little python code. \n",
    "\n",
    "You can write your code to the code block bellow.\n",
    "\n",
    "Create a varialble and set it to the n of the public key pair of the person in itrest. \n",
    "\n",
    "Use while or for loop to loop over intiges x one by one.\n",
    "\n",
    "Test if the number x can divide the number n\n",
    "\n",
    "If x|n and 1 < x < n, x is either p or q. Print x!\n",
    "\n",
    "When you have found the numbers p and q, use the code bellow to decrypt the message.\n",
    "\n",
    "Input the message to be cracked, p and q to the variables.\n"
   ]
  },
  {
   "cell_type": "code",
   "execution_count": null,
   "metadata": {},
   "outputs": [],
   "source": [
    "# Write the code for craking here. You can use while or for loops.\n",
    "n = ... # First numnber of the public key pair"
   ]
  },
  {
   "attachments": {},
   "cell_type": "markdown",
   "metadata": {},
   "source": [
    "Next up you can input the message to be cracked, p and q to the variables. The code will decrypt the message with the given key pair. The message will be printed out in binary format and must be converted to text based utf8 format with an online tool etc."
   ]
  },
  {
   "cell_type": "code",
   "execution_count": null,
   "metadata": {},
   "outputs": [],
   "source": [
    "hakkeroitava_viesti = \"...\"\n",
    "p = ...\n",
    "q = ...\n",
    "nh, mh, eh, dh = avainparien_luonti(p, q)\n",
    "hakkeroitu_viesti = viestin_purku(hakkeroitava_viesti, nh, dh)\n",
    "print(\"Hakkeroitu viesti:\", hakkeroitu_viesti)"
   ]
  }
 ],
 "metadata": {
  "interpreter": {
   "hash": "31f2aee4e71d21fbe5cf8b01ff0e069b9275f58929596ceb00d14d90e3e16cd6"
  },
  "kernelspec": {
   "display_name": "Python 3.8.2 64-bit",
   "language": "python",
   "name": "python3"
  },
  "language_info": {
   "codemirror_mode": {
    "name": "ipython",
    "version": 3
   },
   "file_extension": ".py",
   "mimetype": "text/x-python",
   "name": "python",
   "nbconvert_exporter": "python",
   "pygments_lexer": "ipython3",
   "version": "3.8.2"
  },
  "orig_nbformat": 4
 },
 "nbformat": 4,
 "nbformat_minor": 2
}
